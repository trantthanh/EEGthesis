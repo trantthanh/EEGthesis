{
  "cells": [
    {
      "cell_type": "markdown",
      "metadata": {
        "id": "view-in-github",
        "colab_type": "text"
      },
      "source": [
        "<a href=\"https://colab.research.google.com/github/trantthanh/EEGthesis/blob/main/testing_sad.ipynb\" target=\"_parent\"><img src=\"https://colab.research.google.com/assets/colab-badge.svg\" alt=\"Open In Colab\"/></a>"
      ]
    },
    {
      "cell_type": "markdown",
      "metadata": {
        "id": "M0SU0iuNK4M3"
      },
      "source": [
        "Installing Diffusion library"
      ]
    },
    {
      "cell_type": "code",
      "execution_count": null,
      "metadata": {
        "colab": {
          "base_uri": "https://localhost:8080/"
        },
        "collapsed": true,
        "id": "RII1W1u0Kh-v",
        "outputId": "439dbcd5-b6e0-4f9f-be40-19834f56d8cf"
      },
      "outputs": [
        {
          "output_type": "stream",
          "name": "stdout",
          "text": [
            "Requirement already satisfied: denoising_diffusion_pytorch in /usr/local/lib/python3.11/dist-packages (2.1.1)\n",
            "Requirement already satisfied: accelerate in /usr/local/lib/python3.11/dist-packages (from denoising_diffusion_pytorch) (1.6.0)\n",
            "Requirement already satisfied: einops in /usr/local/lib/python3.11/dist-packages (from denoising_diffusion_pytorch) (0.8.1)\n",
            "Requirement already satisfied: ema-pytorch>=0.4.2 in /usr/local/lib/python3.11/dist-packages (from denoising_diffusion_pytorch) (0.7.7)\n",
            "Requirement already satisfied: numpy in /usr/local/lib/python3.11/dist-packages (from denoising_diffusion_pytorch) (2.0.2)\n",
            "Requirement already satisfied: pillow in /usr/local/lib/python3.11/dist-packages (from denoising_diffusion_pytorch) (11.2.1)\n",
            "Requirement already satisfied: pytorch-fid in /usr/local/lib/python3.11/dist-packages (from denoising_diffusion_pytorch) (0.3.0)\n",
            "Requirement already satisfied: scipy in /usr/local/lib/python3.11/dist-packages (from denoising_diffusion_pytorch) (1.15.2)\n",
            "Requirement already satisfied: torch>=2.0 in /usr/local/lib/python3.11/dist-packages (from denoising_diffusion_pytorch) (2.6.0+cpu)\n",
            "Requirement already satisfied: torchvision in /usr/local/lib/python3.11/dist-packages (from denoising_diffusion_pytorch) (0.21.0+cpu)\n",
            "Requirement already satisfied: tqdm in /usr/local/lib/python3.11/dist-packages (from denoising_diffusion_pytorch) (4.67.1)\n",
            "Requirement already satisfied: filelock in /usr/local/lib/python3.11/dist-packages (from torch>=2.0->denoising_diffusion_pytorch) (3.18.0)\n",
            "Requirement already satisfied: typing-extensions>=4.10.0 in /usr/local/lib/python3.11/dist-packages (from torch>=2.0->denoising_diffusion_pytorch) (4.13.2)\n",
            "Requirement already satisfied: networkx in /usr/local/lib/python3.11/dist-packages (from torch>=2.0->denoising_diffusion_pytorch) (3.4.2)\n",
            "Requirement already satisfied: jinja2 in /usr/local/lib/python3.11/dist-packages (from torch>=2.0->denoising_diffusion_pytorch) (3.1.6)\n",
            "Requirement already satisfied: fsspec in /usr/local/lib/python3.11/dist-packages (from torch>=2.0->denoising_diffusion_pytorch) (2025.3.2)\n",
            "Requirement already satisfied: sympy==1.13.1 in /usr/local/lib/python3.11/dist-packages (from torch>=2.0->denoising_diffusion_pytorch) (1.13.1)\n",
            "Requirement already satisfied: mpmath<1.4,>=1.1.0 in /usr/local/lib/python3.11/dist-packages (from sympy==1.13.1->torch>=2.0->denoising_diffusion_pytorch) (1.3.0)\n",
            "Requirement already satisfied: packaging>=20.0 in /usr/local/lib/python3.11/dist-packages (from accelerate->denoising_diffusion_pytorch) (25.0)\n",
            "Requirement already satisfied: psutil in /usr/local/lib/python3.11/dist-packages (from accelerate->denoising_diffusion_pytorch) (5.9.5)\n",
            "Requirement already satisfied: pyyaml in /usr/local/lib/python3.11/dist-packages (from accelerate->denoising_diffusion_pytorch) (6.0.2)\n",
            "Requirement already satisfied: huggingface-hub>=0.21.0 in /usr/local/lib/python3.11/dist-packages (from accelerate->denoising_diffusion_pytorch) (0.30.2)\n",
            "Requirement already satisfied: safetensors>=0.4.3 in /usr/local/lib/python3.11/dist-packages (from accelerate->denoising_diffusion_pytorch) (0.5.3)\n",
            "Requirement already satisfied: requests in /usr/local/lib/python3.11/dist-packages (from huggingface-hub>=0.21.0->accelerate->denoising_diffusion_pytorch) (2.32.3)\n",
            "Requirement already satisfied: MarkupSafe>=2.0 in /usr/local/lib/python3.11/dist-packages (from jinja2->torch>=2.0->denoising_diffusion_pytorch) (3.0.2)\n",
            "Requirement already satisfied: charset-normalizer<4,>=2 in /usr/local/lib/python3.11/dist-packages (from requests->huggingface-hub>=0.21.0->accelerate->denoising_diffusion_pytorch) (3.4.1)\n",
            "Requirement already satisfied: idna<4,>=2.5 in /usr/local/lib/python3.11/dist-packages (from requests->huggingface-hub>=0.21.0->accelerate->denoising_diffusion_pytorch) (3.10)\n",
            "Requirement already satisfied: urllib3<3,>=1.21.1 in /usr/local/lib/python3.11/dist-packages (from requests->huggingface-hub>=0.21.0->accelerate->denoising_diffusion_pytorch) (2.4.0)\n",
            "Requirement already satisfied: certifi>=2017.4.17 in /usr/local/lib/python3.11/dist-packages (from requests->huggingface-hub>=0.21.0->accelerate->denoising_diffusion_pytorch) (2025.4.26)\n"
          ]
        }
      ],
      "source": [
        "pip install denoising_diffusion_pytorch"
      ]
    },
    {
      "cell_type": "code",
      "execution_count": null,
      "metadata": {
        "id": "15mAJRHnOuGa"
      },
      "outputs": [],
      "source": [
        "import torch\n",
        "from denoising_diffusion_pytorch import Unet, GaussianDiffusion,Unet1D,GaussianDiffusion1D"
      ]
    },
    {
      "cell_type": "markdown",
      "metadata": {
        "id": "_vLjwaP4Lc-H"
      },
      "source": [
        "input dataset"
      ]
    },
    {
      "cell_type": "code",
      "execution_count": null,
      "metadata": {
        "colab": {
          "base_uri": "https://localhost:8080/"
        },
        "id": "v93Ee9RSLfEX",
        "outputId": "2a883e61-41ee-45c8-e6b2-47f39a062fb6"
      },
      "outputs": [
        {
          "output_type": "stream",
          "name": "stdout",
          "text": [
            "Drive already mounted at /content/drive; to attempt to forcibly remount, call drive.mount(\"/content/drive\", force_remount=True).\n"
          ]
        }
      ],
      "source": [
        "import numpy as np\n",
        "import scipy.io\n",
        "import pandas as pd\n",
        "# mne imports\n",
        "import glob\n",
        "import os\n",
        "import re\n",
        "\n",
        "\n",
        "# EEGNet-specific imports\n",
        "from google.colab import drive\n",
        "drive.mount('/content/drive')\n",
        "import sys\n",
        "sys.path.append('/content/drive/MyDrive/')\n",
        "from google.colab import drive"
      ]
    },
    {
      "cell_type": "code",
      "execution_count": null,
      "metadata": {
        "colab": {
          "base_uri": "https://localhost:8080/"
        },
        "id": "9TKLDKRFOO_m",
        "outputId": "894cfdfb-8f2a-4cee-e960-8d2e33ccee14"
      },
      "outputs": [
        {
          "output_type": "stream",
          "name": "stdout",
          "text": [
            "1_20160518.mat\n",
            "2_20150915.mat\n",
            "3_20150919.mat\n",
            "4_20151111.mat\n",
            "5_20160406.mat\n",
            "6_20150507.mat\n",
            "7_20150715.mat\n",
            "8_20151103.mat\n",
            "9_20151028.mat\n",
            "10_20151014.mat\n",
            "11_20150916.mat\n",
            "12_20150725.mat\n",
            "13_20151115.mat\n",
            "14_20151205.mat\n",
            "15_20150508.mat\n"
          ]
        }
      ],
      "source": [
        "folder_path = '/content/drive/MyDrive/SEED_IV/eeg_raw_data/1'\n",
        "\n",
        "mat_files = glob.glob(os.path.join(folder_path, '*.mat'))\n",
        "mat_files.sort(key=lambda f: int(re.search(r'\\d+', os.path.basename(f)).group()))\n",
        "for file in mat_files:\n",
        "    print(os.path.basename(file))"
      ]
    },
    {
      "cell_type": "code",
      "execution_count": null,
      "metadata": {
        "id": "tu6jyi6BOewH"
      },
      "outputs": [],
      "source": [
        "segment_length = 512\n",
        "#segment_length = 300\n",
        "#segment_length = 1000\n",
        "step_size = 256\n",
        "\n",
        "def segment_eeg(eeg_matrix, segment_length, step_size):\n",
        "    segments = []\n",
        "    num_channels, total_length = eeg_matrix.shape\n",
        "    for start in range(0, total_length - segment_length + 1, step_size):\n",
        "        segment = eeg_matrix[:, start:start + segment_length]\n",
        "        segments.append(segment)\n",
        "    return np.stack(segments)"
      ]
    },
    {
      "cell_type": "markdown",
      "metadata": {
        "id": "4xCH0WPX3gy4"
      },
      "source": []
    },
    {
      "cell_type": "code",
      "execution_count": 7,
      "metadata": {
        "id": "i--_2NL0Pn_b",
        "colab": {
          "base_uri": "https://localhost:8080/"
        },
        "outputId": "fa963863-25f1-4d00-b088-ae33d4c68791"
      },
      "outputs": [
        {
          "output_type": "stream",
          "name": "stdout",
          "text": [
            "Total Segments: 39750\n",
            "One Segment Shape: (62, 512)\n"
          ]
        }
      ],
      "source": [
        "all_segments = []\n",
        "all_labels = []\n",
        "label_list = [1,2,3,0,2,0,0,1,0,1,2,1,1,1,2,3,2,2,3,3,0,3,0,3]\n",
        "#important_channels = [0, 2, 5, 13, 23, 31, 41, 49, 58, 60]\n",
        "#important_channels = [0,2,3,4,5,13,15,16,17,23,24,25,28,31,35,36,37,41,43,44,46,49,50,52,53,54,57,58,60,61]\n",
        "for file_path in mat_files:\n",
        "    mat = scipy.io.loadmat(file_path)\n",
        "    eeg_keys = [k for k in mat.keys() if k.endswith(tuple(f\"_eeg{i}\" for i in range(1, 25)))]\n",
        "    eeg_keys = sorted(eeg_keys, key=lambda x: int(''.join(filter(str.isdigit, x))))\n",
        "\n",
        "    for i, var_name in enumerate(eeg_keys):\n",
        "        eeg_matrix = mat[var_name]\n",
        "    #    eeg_matrix = eeg_matrix[important_channels, :]\n",
        "        label = label_list[i]\n",
        "\n",
        "        segments = segment_eeg(eeg_matrix, segment_length, step_size)\n",
        "        all_segments.extend(segments)\n",
        "        all_labels.extend([label] * len(segments))\n",
        "\n",
        "print(f\"Total Segments: {len(all_segments)}\")\n",
        "print(f\"One Segment Shape: {all_segments[0].shape}\")"
      ]
    },
    {
      "cell_type": "code",
      "source": [
        "np.save(\"/content/drive/MyDrive/full_segments_512_62ch.npy\", all_segments)\n",
        "np.save(\"/content/drive/MyDrive/full_labels_512.npy\", all_labels)"
      ],
      "metadata": {
        "id": "Cb6Pm4lHegRv"
      },
      "execution_count": 9,
      "outputs": []
    },
    {
      "cell_type": "code",
      "source": [
        "all_labels = np.array(all_labels)\n",
        "\n",
        "for i, emotion in enumerate([\"Neutral\", \"Sad\", \"Happy\", \"Fear\"]):\n",
        "    count = np.sum(all_labels == i)\n",
        "    print(f\"{emotion}: {count} segments\")"
      ],
      "metadata": {
        "colab": {
          "base_uri": "https://localhost:8080/"
        },
        "id": "PW3Oh8obcGkF",
        "outputId": "8571a7f6-cff5-4950-a340-3382d8c13278"
      },
      "execution_count": 10,
      "outputs": [
        {
          "output_type": "stream",
          "name": "stdout",
          "text": [
            "Neutral: 10140 segments\n",
            "Sad: 12090 segments\n",
            "Happy: 8535 segments\n",
            "Fear: 8985 segments\n"
          ]
        }
      ]
    },
    {
      "cell_type": "markdown",
      "metadata": {
        "id": "Q8zGM5eoSlDD"
      },
      "source": [
        "Normalize data"
      ]
    },
    {
      "cell_type": "code",
      "execution_count": 19,
      "metadata": {
        "id": "x_BrHZiij-Sa"
      },
      "outputs": [],
      "source": [
        "all_segments = np.array(all_segments)\n",
        "all_labels = np.array(all_labels)\n",
        "emotion_segments = {\n",
        "    #\"Neutral\": all_segments[all_labels ==0][:5000],\n",
        "    \"Sad\": all_segments[all_labels ==1][:5000],\n",
        "    #\"Fear\": all_segments[all_labels ==2][:5000],\n",
        "    #\"Happy\": all_segments[all_labels ==3][:5000],\n",
        "}"
      ]
    },
    {
      "cell_type": "markdown",
      "metadata": {
        "id": "vy4T52emFfPC"
      },
      "source": []
    },
    {
      "cell_type": "code",
      "execution_count": 20,
      "metadata": {
        "id": "2Qc4W3YaScI2"
      },
      "outputs": [],
      "source": [
        "from torch.utils.data import Dataset, DataLoader\n",
        "\n",
        "class EEGEmotionDataset(Dataset):\n",
        "    def __init__(self, segments):\n",
        "        self.segments = segments\n",
        "\n",
        "    def __len__(self):\n",
        "        return len(self.segments)\n",
        "\n",
        "    def normalize_segment(self, x):\n",
        "        min_val = x.min()\n",
        "        max_val = x.max()\n",
        "        norm_x = 2 * (x - min_val) / (max_val - min_val + 1e-8) - 1\n",
        "        return norm_x.astype(np.float32)\n",
        "\n",
        "    def __getitem__(self, idx):\n",
        "        x = self.segments[idx]\n",
        "        x = self.normalize_segment(x)\n",
        "        x = torch.tensor(x, dtype=torch.float32)\n",
        "\n",
        "        return x\n"
      ]
    },
    {
      "cell_type": "markdown",
      "metadata": {
        "id": "DHLxhReqj--S"
      },
      "source": [
        "4 diffference EEG segment"
      ]
    },
    {
      "cell_type": "code",
      "execution_count": 21,
      "metadata": {
        "id": "pFq3NXXrV3ZU"
      },
      "outputs": [],
      "source": [
        "emotion_dataloaders = {}\n",
        "for emotion, segments in emotion_segments.items():\n",
        "    dataset = EEGEmotionDataset(segments)\n",
        "    loader = DataLoader(dataset, batch_size=32, shuffle=True, drop_last=True)\n",
        "    emotion_dataloaders[emotion] = loader"
      ]
    },
    {
      "cell_type": "markdown",
      "metadata": {
        "id": "OMxeHoRdZL66"
      },
      "source": [
        "Create  diffusion model"
      ]
    },
    {
      "cell_type": "code",
      "execution_count": 22,
      "metadata": {
        "id": "vrgUN_sxZ_mD"
      },
      "outputs": [],
      "source": [
        "import torch.optim as optim\n",
        "models = {}\n",
        "diffusions = {}\n",
        "for emotion in [\"Neutral\",\"Sad\",\"Fear\",\"Happy\" ]:\n",
        "  model = Unet1D(\n",
        "      dim=32,\n",
        "      channels=62,\n",
        "      dim_mults=(1, 2),\n",
        "  )\n",
        "\n",
        "  diffusion = GaussianDiffusion1D(\n",
        "      model,\n",
        "      seq_length = 512,\n",
        "      #seq_length = 300,\n",
        "      timesteps=200,\n",
        "  )\n",
        "  models[emotion] = model\n",
        "  diffusions[emotion] = diffusion\n",
        "\n",
        "device = torch.device('cuda' if torch.cuda.is_available() else 'cpu')"
      ]
    },
    {
      "cell_type": "code",
      "execution_count": null,
      "metadata": {
        "id": "Ontrms7RXLWG",
        "colab": {
          "base_uri": "https://localhost:8080/"
        },
        "outputId": "ca25086f-5ad1-462b-ab19-056b8d67f806"
      },
      "outputs": [
        {
          "output_type": "stream",
          "name": "stdout",
          "text": [
            "Epoch 1 | SAD Loss: 1.0072\n",
            "Epoch 2 | SAD Loss: 0.9426\n"
          ]
        }
      ],
      "source": [
        "model = models[\"Sad\"]\n",
        "diffusion = diffusions[\"Sad\"]\n",
        "dataloader = emotion_dataloaders[\"Sad\"]\n",
        "\n",
        "model.to(device)\n",
        "diffusion.to(device)\n",
        "optimizer = torch.optim.Adam(model.parameters(), lr=1e-4)\n",
        "\n",
        "epochs = 50\n",
        "for epoch in range(epochs):\n",
        "    total_loss=0\n",
        "    for x in dataloader:\n",
        "        x = x.to(device)\n",
        "\n",
        "        optimizer.zero_grad()\n",
        "        loss = diffusion(x)\n",
        "        loss.backward()\n",
        "        optimizer.step()\n",
        "\n",
        "        total_loss +=loss.item()\n",
        "    avg_loss = total_loss / len(dataloader)\n",
        "    print(f\"Epoch {epoch+1} | SAD Loss: {avg_loss:.4f}\")\n",
        "\n"
      ]
    },
    {
      "cell_type": "code",
      "execution_count": null,
      "metadata": {
        "id": "pmmQzhbnreKZ",
        "colab": {
          "base_uri": "https://localhost:8080/"
        },
        "outputId": "008f8503-cded-426b-ee5a-bba65340ef11"
      },
      "outputs": [
        {
          "output_type": "stream",
          "name": "stdout",
          "text": [
            " Saved Sad model!\n"
          ]
        }
      ],
      "source": [
        "save_path = \"/content/drive/MyDrive/\"\n",
        "os.makedirs(save_path, exist_ok=True)\n",
        "torch.save(model.state_dict(), os.path.join(save_path, \"Sad_diffusion_model_2.pth\"))\n",
        "print(\" Saved Sad model!\")"
      ]
    },
    {
      "cell_type": "markdown",
      "metadata": {
        "id": "__IEf5ho5uA6"
      },
      "source": [
        "validating with tsne\n",
        "\n"
      ]
    },
    {
      "cell_type": "code",
      "execution_count": null,
      "metadata": {
        "id": "UTFnm6cIxKd3",
        "colab": {
          "base_uri": "https://localhost:8080/",
          "height": 49,
          "referenced_widgets": [
            "80bf61aaa6404ac4bbd179ac5008573b",
            "3394df2a1f35422b8c65cb7c62cf36d8",
            "3ce9362db3f847359f4acc8cec55d7e2",
            "db0fa1ab467c49d59de5ac270fcbf748",
            "85679d05a62644228605e8cb5d94fbae",
            "6c1a1a3c5c11478492163ccbb045db2a",
            "92b17522a5ae4e4a92cc3124b7782e39",
            "97d34c083033428789b385a3fc23fb60",
            "d7f2b37480b24bd1a77c1cbb1c2c2f79",
            "deb899e083184a87afef6d3d58e32922",
            "c6505455d2b34a07ab23c80a83088c2b"
          ]
        },
        "outputId": "1a1469b0-4c74-4b3a-fa0d-e9100841f7f8"
      },
      "outputs": [
        {
          "output_type": "display_data",
          "data": {
            "text/plain": [
              "sampling loop time step:   0%|          | 0/200 [00:00<?, ?it/s]"
            ],
            "application/vnd.jupyter.widget-view+json": {
              "version_major": 2,
              "version_minor": 0,
              "model_id": "80bf61aaa6404ac4bbd179ac5008573b"
            }
          },
          "metadata": {}
        }
      ],
      "source": [
        "model = models[\"Sad\"]\n",
        "diffusion = diffusions[\"Sad\"]\n",
        "model.eval()\n",
        "\n",
        "with torch.no_grad():\n",
        "    generated_Sad = diffusion.sample(batch_size=500).cpu().numpy()"
      ]
    },
    {
      "cell_type": "code",
      "execution_count": null,
      "metadata": {
        "id": "MsFtdkw_xMSX"
      },
      "outputs": [],
      "source": [
        "real_Sad = emotion_segments[\"Sad\"][:500]  # shape: (200, 10, 512)"
      ]
    },
    {
      "cell_type": "code",
      "execution_count": null,
      "metadata": {
        "id": "lrRwa8EwxNwf"
      },
      "outputs": [],
      "source": [
        "real_flat = real_Sad.reshape(500, -1)\n",
        "fake_flat = generated_Sad.reshape(500, -1)\n",
        "\n",
        "X = np.concatenate([real_flat, fake_flat], axis=0)\n",
        "y = np.array([0]*500 + [1]*500)  # 0 = real, 1 = generated\n"
      ]
    },
    {
      "cell_type": "code",
      "execution_count": null,
      "metadata": {
        "id": "bv8ijto1xPXg",
        "colab": {
          "base_uri": "https://localhost:8080/"
        },
        "outputId": "a4a1f9d7-b5d2-4258-f7f8-22097ced1c4a"
      },
      "outputs": [
        {
          "output_type": "display_data",
          "data": {
            "text/plain": [
              "<Figure size 800x600 with 1 Axes>"
            ],
            "image/png": "[encoded data removed]"
          },
          "metadata": {}
        }
      ],
      "source": [
        "from sklearn.manifold import TSNE\n",
        "from matplotlib import pyplot as plt\n",
        "tsne = TSNE(n_components=2, perplexity=30, random_state=42)\n",
        "X_tsne = tsne.fit_transform(X)\n",
        "\n",
        "plt.figure(figsize=(8,6))\n",
        "plt.scatter(X_tsne[y==0, 0], X_tsne[y==0, 1], label='Real Sad', alpha=0.6)\n",
        "plt.scatter(X_tsne[y==1, 0], X_tsne[y==1, 1], label='Generated Sad', alpha=0.6, marker='x')\n",
        "plt.title(\"t-SNE — Real vs Generated Sad EEG\")\n",
        "plt.legend()\n",
        "plt.grid(True)\n",
        "plt.show()\n"
      ]
    }
  ],
  "metadata": {
    "colab": {
      "provenance": [],
      "gpuType": "V28",
      "mount_file_id": "1pEO_SRbDN5YqF6or9nWZhofyBPkHtpHZ",
      "authorship_tag": "ABX9TyNtNpOAYoCt+2kQyFuOlz8I",
      "include_colab_link": true
    },
    "kernelspec": {
      "display_name": "Python 3",
      "name": "python3"
    },
    "language_info": {
      "name": "python"
    },
    "widgets": {
      "application/vnd.jupyter.widget-state+json": {
        "80bf61aaa6404ac4bbd179ac5008573b": {
          "model_module": "@jupyter-widgets/controls",
          "model_name": "HBoxModel",
          "model_module_version": "1.5.0",
          "state": {
            "_dom_classes": [],
            "_model_module": "@jupyter-widgets/controls",
            "_model_module_version": "1.5.0",
            "_model_name": "HBoxModel",
            "_view_count": null,
            "_view_module": "@jupyter-widgets/controls",
            "_view_module_version": "1.5.0",
            "_view_name": "HBoxView",
            "box_style": "",
            "children": [
              "IPY_MODEL_3394df2a1f35422b8c65cb7c62cf36d8",
              "IPY_MODEL_3ce9362db3f847359f4acc8cec55d7e2",
              "IPY_MODEL_db0fa1ab467c49d59de5ac270fcbf748"
            ],
            "layout": "IPY_MODEL_85679d05a62644228605e8cb5d94fbae"
          }
        },
        "3394df2a1f35422b8c65cb7c62cf36d8": {
          "model_module": "@jupyter-widgets/controls",
          "model_name": "HTMLModel",
          "model_module_version": "1.5.0",
          "state": {
            "_dom_classes": [],
            "_model_module": "@jupyter-widgets/controls",
            "_model_module_version": "1.5.0",
            "_model_name": "HTMLModel",
            "_view_count": null,
            "_view_module": "@jupyter-widgets/controls",
            "_view_module_version": "1.5.0",
            "_view_name": "HTMLView",
            "description": "",
            "description_tooltip": null,
            "layout": "IPY_MODEL_6c1a1a3c5c11478492163ccbb045db2a",
            "placeholder": "​",
            "style": "IPY_MODEL_92b17522a5ae4e4a92cc3124b7782e39",
            "value": "sampling loop time step: 100%"
          }
        },
        "3ce9362db3f847359f4acc8cec55d7e2": {
          "model_module": "@jupyter-widgets/controls",
          "model_name": "FloatProgressModel",
          "model_module_version": "1.5.0",
          "state": {
            "_dom_classes": [],
            "_model_module": "@jupyter-widgets/controls",
            "_model_module_version": "1.5.0",
            "_model_name": "FloatProgressModel",
            "_view_count": null,
            "_view_module": "@jupyter-widgets/controls",
            "_view_module_version": "1.5.0",
            "_view_name": "ProgressView",
            "bar_style": "success",
            "description": "",
            "description_tooltip": null,
            "layout": "IPY_MODEL_97d34c083033428789b385a3fc23fb60",
            "max": 200,
            "min": 0,
            "orientation": "horizontal",
            "style": "IPY_MODEL_d7f2b37480b24bd1a77c1cbb1c2c2f79",
            "value": 200
          }
        },
        "db0fa1ab467c49d59de5ac270fcbf748": {
          "model_module": "@jupyter-widgets/controls",
          "model_name": "HTMLModel",
          "model_module_version": "1.5.0",
          "state": {
            "_dom_classes": [],
            "_model_module": "@jupyter-widgets/controls",
            "_model_module_version": "1.5.0",
            "_model_name": "HTMLModel",
            "_view_count": null,
            "_view_module": "@jupyter-widgets/controls",
            "_view_module_version": "1.5.0",
            "_view_name": "HTMLView",
            "description": "",
            "description_tooltip": null,
            "layout": "IPY_MODEL_deb899e083184a87afef6d3d58e32922",
            "placeholder": "​",
            "style": "IPY_MODEL_c6505455d2b34a07ab23c80a83088c2b",
            "value": " 200/200 [00:17&lt;00:00, 11.53it/s]"
          }
        },
        "85679d05a62644228605e8cb5d94fbae": {
          "model_module": "@jupyter-widgets/base",
          "model_name": "LayoutModel",
          "model_module_version": "1.2.0",
          "state": {
            "_model_module": "@jupyter-widgets/base",
            "_model_module_version": "1.2.0",
            "_model_name": "LayoutModel",
            "_view_count": null,
            "_view_module": "@jupyter-widgets/base",
            "_view_module_version": "1.2.0",
            "_view_name": "LayoutView",
            "align_content": null,
            "align_items": null,
            "align_self": null,
            "border": null,
            "bottom": null,
            "display": null,
            "flex": null,
            "flex_flow": null,
            "grid_area": null,
            "grid_auto_columns": null,
            "grid_auto_flow": null,
            "grid_auto_rows": null,
            "grid_column": null,
            "grid_gap": null,
            "grid_row": null,
            "grid_template_areas": null,
            "grid_template_columns": null,
            "grid_template_rows": null,
            "height": null,
            "justify_content": null,
            "justify_items": null,
            "left": null,
            "margin": null,
            "max_height": null,
            "max_width": null,
            "min_height": null,
            "min_width": null,
            "object_fit": null,
            "object_position": null,
            "order": null,
            "overflow": null,
            "overflow_x": null,
            "overflow_y": null,
            "padding": null,
            "right": null,
            "top": null,
            "visibility": null,
            "width": null
          }
        },
        "6c1a1a3c5c11478492163ccbb045db2a": {
          "model_module": "@jupyter-widgets/base",
          "model_name": "LayoutModel",
          "model_module_version": "1.2.0",
          "state": {
            "_model_module": "@jupyter-widgets/base",
            "_model_module_version": "1.2.0",
            "_model_name": "LayoutModel",
            "_view_count": null,
            "_view_module": "@jupyter-widgets/base",
            "_view_module_version": "1.2.0",
            "_view_name": "LayoutView",
            "align_content": null,
            "align_items": null,
            "align_self": null,
            "border": null,
            "bottom": null,
            "display": null,
            "flex": null,
            "flex_flow": null,
            "grid_area": null,
            "grid_auto_columns": null,
            "grid_auto_flow": null,
            "grid_auto_rows": null,
            "grid_column": null,
            "grid_gap": null,
            "grid_row": null,
            "grid_template_areas": null,
            "grid_template_columns": null,
            "grid_template_rows": null,
            "height": null,
            "justify_content": null,
            "justify_items": null,
            "left": null,
            "margin": null,
            "max_height": null,
            "max_width": null,
            "min_height": null,
            "min_width": null,
            "object_fit": null,
            "object_position": null,
            "order": null,
            "overflow": null,
            "overflow_x": null,
            "overflow_y": null,
            "padding": null,
            "right": null,
            "top": null,
            "visibility": null,
            "width": null
          }
        },
        "92b17522a5ae4e4a92cc3124b7782e39": {
          "model_module": "@jupyter-widgets/controls",
          "model_name": "DescriptionStyleModel",
          "model_module_version": "1.5.0",
          "state": {
            "_model_module": "@jupyter-widgets/controls",
            "_model_module_version": "1.5.0",
            "_model_name": "DescriptionStyleModel",
            "_view_count": null,
            "_view_module": "@jupyter-widgets/base",
            "_view_module_version": "1.2.0",
            "_view_name": "StyleView",
            "description_width": ""
          }
        },
        "97d34c083033428789b385a3fc23fb60": {
          "model_module": "@jupyter-widgets/base",
          "model_name": "LayoutModel",
          "model_module_version": "1.2.0",
          "state": {
            "_model_module": "@jupyter-widgets/base",
            "_model_module_version": "1.2.0",
            "_model_name": "LayoutModel",
            "_view_count": null,
            "_view_module": "@jupyter-widgets/base",
            "_view_module_version": "1.2.0",
            "_view_name": "LayoutView",
            "align_content": null,
            "align_items": null,
            "align_self": null,
            "border": null,
            "bottom": null,
            "display": null,
            "flex": null,
            "flex_flow": null,
            "grid_area": null,
            "grid_auto_columns": null,
            "grid_auto_flow": null,
            "grid_auto_rows": null,
            "grid_column": null,
            "grid_gap": null,
            "grid_row": null,
            "grid_template_areas": null,
            "grid_template_columns": null,
            "grid_template_rows": null,
            "height": null,
            "justify_content": null,
            "justify_items": null,
            "left": null,
            "margin": null,
            "max_height": null,
            "max_width": null,
            "min_height": null,
            "min_width": null,
            "object_fit": null,
            "object_position": null,
            "order": null,
            "overflow": null,
            "overflow_x": null,
            "overflow_y": null,
            "padding": null,
            "right": null,
            "top": null,
            "visibility": null,
            "width": null
          }
        },
        "d7f2b37480b24bd1a77c1cbb1c2c2f79": {
          "model_module": "@jupyter-widgets/controls",
          "model_name": "ProgressStyleModel",
          "model_module_version": "1.5.0",
          "state": {
            "_model_module": "@jupyter-widgets/controls",
            "_model_module_version": "1.5.0",
            "_model_name": "ProgressStyleModel",
            "_view_count": null,
            "_view_module": "@jupyter-widgets/base",
            "_view_module_version": "1.2.0",
            "_view_name": "StyleView",
            "bar_color": null,
            "description_width": ""
          }
        },
        "deb899e083184a87afef6d3d58e32922": {
          "model_module": "@jupyter-widgets/base",
          "model_name": "LayoutModel",
          "model_module_version": "1.2.0",
          "state": {
            "_model_module": "@jupyter-widgets/base",
            "_model_module_version": "1.2.0",
            "_model_name": "LayoutModel",
            "_view_count": null,
            "_view_module": "@jupyter-widgets/base",
            "_view_module_version": "1.2.0",
            "_view_name": "LayoutView",
            "align_content": null,
            "align_items": null,
            "align_self": null,
            "border": null,
            "bottom": null,
            "display": null,
            "flex": null,
            "flex_flow": null,
            "grid_area": null,
            "grid_auto_columns": null,
            "grid_auto_flow": null,
            "grid_auto_rows": null,
            "grid_column": null,
            "grid_gap": null,
            "grid_row": null,
            "grid_template_areas": null,
            "grid_template_columns": null,
            "grid_template_rows": null,
            "height": null,
            "justify_content": null,
            "justify_items": null,
            "left": null,
            "margin": null,
            "max_height": null,
            "max_width": null,
            "min_height": null,
            "min_width": null,
            "object_fit": null,
            "object_position": null,
            "order": null,
            "overflow": null,
            "overflow_x": null,
            "overflow_y": null,
            "padding": null,
            "right": null,
            "top": null,
            "visibility": null,
            "width": null
          }
        },
        "c6505455d2b34a07ab23c80a83088c2b": {
          "model_module": "@jupyter-widgets/controls",
          "model_name": "DescriptionStyleModel",
          "model_module_version": "1.5.0",
          "state": {
            "_model_module": "@jupyter-widgets/controls",
            "_model_module_version": "1.5.0",
            "_model_name": "DescriptionStyleModel",
            "_view_count": null,
            "_view_module": "@jupyter-widgets/base",
            "_view_module_version": "1.2.0",
            "_view_name": "StyleView",
            "description_width": ""
          }
        }
      }
    },
    "accelerator": "TPU"
  },
  "nbformat": 4,
  "nbformat_minor": 0
}